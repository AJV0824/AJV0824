{
 "cells": [
  {
   "cell_type": "code",
   "execution_count": 68,
   "id": "81ed37e2",
   "metadata": {},
   "outputs": [
    {
     "name": "stdout",
     "output_type": "stream",
     "text": [
      "Original JSON Response Object:  {'results': [{'address_components': [{'long_name': 'Gainesville', 'short_name': 'Gainesville', 'types': ['locality', 'political']}, {'long_name': 'Alachua County', 'short_name': 'Alachua County', 'types': ['administrative_area_level_2', 'political']}, {'long_name': 'Florida', 'short_name': 'FL', 'types': ['administrative_area_level_1', 'political']}, {'long_name': 'United States', 'short_name': 'US', 'types': ['country', 'political']}, {'long_name': '32611', 'short_name': '32611', 'types': ['postal_code']}], 'formatted_address': 'Gainesville, FL 32611, USA', 'geometry': {'location': {'lat': 29.6436325, 'lng': -82.3549302}, 'location_type': 'GEOMETRIC_CENTER', 'viewport': {'northeast': {'lat': 29.6449814802915, 'lng': -82.3535812197085}, 'southwest': {'lat': 29.6422835197085, 'lng': -82.35627918029151}}}, 'place_id': 'ChIJdZLk-wyj6IgRhpg9FN7gbyA', 'plus_code': {'compound_code': 'JJVW+F2 Gainesville, FL, USA', 'global_code': '76XVJJVW+F2'}, 'types': ['establishment', 'point_of_interest', 'university']}], 'status': 'OK'}\n",
      "--------------------------------------------------------------------------------------------------------------------------------------------------------------\n",
      "JSON Response Object Keys:  dict_keys(['results', 'status'])\n",
      "--------------------------------------------------------------------------------------------------------------------------------------------------------------\n",
      "dict_keys(['address_components', 'formatted_address', 'geometry', 'place_id', 'plus_code', 'types'])\n",
      "--------------------------------------------------------------------------------------------------------------------------------------------------------------\n",
      "Place ID:  ChIJdZLk-wyj6IgRhpg9FN7gbyA\n"
     ]
    }
   ],
   "source": [
    "# LINK TO HELPFUL VIDEO = https://www.youtube.com/watch?v=d1QGLwie9YU\n",
    "import requests\n",
    "import json\n",
    "api_key = 42\n",
    "address = 'University of Florida'\n",
    "url = 'http://py4e-data.dr-chuck.net/json?'\n",
    "params = {\n",
    "    'key': api_key,\n",
    "    'address': address\n",
    "}\n",
    "#CREATE JSON RESPONSE OBJECT WHICH IS A DICTIONARY of 2 lists results and status. These 2 lists contain dictionaries\n",
    "r = requests.get(url,params).json()\n",
    "print('Original JSON Response Object: ',r)\n",
    "print('--------------------------------------------------------------------------------------------------------------------------------------------------------------')\n",
    "#GET DICTIONARY KEYS\n",
    "print('JSON Response Object Keys: ',r.keys())\n",
    "print('--------------------------------------------------------------------------------------------------------------------------------------------------------------')\n",
    "if r['status'] == 'OK':\n",
    "    #list containing dictionaries, by calling each element in a list you will get a different dictionary. Place ID is in the first element of the list so we call results[0]\n",
    "    dict_keys = r['results'][0].keys()\n",
    "    full_dict = r['results'][0]\n",
    "print(dict_keys)\n",
    "print('--------------------------------------------------------------------------------------------------------------------------------------------------------------')\n",
    "print('Place ID: ',full_dict.get('place_id'))"
   ]
  },
  {
   "cell_type": "code",
   "execution_count": 63,
   "id": "959aa9f4",
   "metadata": {},
   "outputs": [
    {
     "name": "stdout",
     "output_type": "stream",
     "text": [
      "dict_keys(['address_components', 'formatted_address', 'geometry', 'place_id', 'plus_code', 'types'])\n",
      "ChIJdZLk-wyj6IgRhpg9FN7gbyA\n"
     ]
    }
   ],
   "source": [
    "if r['status'] == 'OK':\n",
    "    #list containing dictionaries, by calling each element in a list you will get a different dictionary. Place ID is in the first element of the list so we call results[0]\n",
    "    dict_keys = r['results'][0].keys()\n",
    "    full_dict = r['results'][0]\n",
    "print(dict_keys)\n",
    "print(full_dict.get('place_id'))"
   ]
  },
  {
   "cell_type": "code",
   "execution_count": 59,
   "id": "13f40ba9",
   "metadata": {},
   "outputs": [
    {
     "data": {
      "text/plain": [
       "list"
      ]
     },
     "execution_count": 59,
     "metadata": {},
     "output_type": "execute_result"
    }
   ],
   "source": [
    "type(r.get('results'))"
   ]
  }
 ],
 "metadata": {
  "kernelspec": {
   "display_name": "Python 3 (ipykernel)",
   "language": "python",
   "name": "python3"
  },
  "language_info": {
   "codemirror_mode": {
    "name": "ipython",
    "version": 3
   },
   "file_extension": ".py",
   "mimetype": "text/x-python",
   "name": "python",
   "nbconvert_exporter": "python",
   "pygments_lexer": "ipython3",
   "version": "3.10.1"
  }
 },
 "nbformat": 4,
 "nbformat_minor": 5
}
