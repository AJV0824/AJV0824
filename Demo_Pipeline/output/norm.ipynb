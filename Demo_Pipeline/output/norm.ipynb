{
 "cells": [
  {
   "cell_type": "code",
   "execution_count": 1,
   "id": "fdf7c362",
   "metadata": {
    "execution": {
     "iopub.execute_input": "2022-05-02T16:52:25.092588Z",
     "iopub.status.busy": "2022-05-02T16:52:25.091593Z",
     "iopub.status.idle": "2022-05-02T16:52:25.102531Z",
     "shell.execute_reply": "2022-05-02T16:52:25.101649Z"
    },
    "lines_to_next_cell": 2,
    "papermill": {
     "duration": 0.017864,
     "end_time": "2022-05-02T16:52:25.102531",
     "exception": false,
     "start_time": "2022-05-02T16:52:25.084667",
     "status": "completed"
    },
    "tags": []
   },
   "outputs": [],
   "source": [
    "# Add description here\n",
    "#\n",
    "# *Note:* You can open this file as a notebook (JupyterLab: right-click on it in the side bar -> Open With -> Notebook)"
   ]
  },
  {
   "cell_type": "code",
   "execution_count": 2,
   "id": "d2457c1c",
   "metadata": {
    "execution": {
     "iopub.execute_input": "2022-05-02T16:52:25.114531Z",
     "iopub.status.busy": "2022-05-02T16:52:25.114531Z",
     "iopub.status.idle": "2022-05-02T16:52:25.117479Z",
     "shell.execute_reply": "2022-05-02T16:52:25.117479Z"
    },
    "papermill": {
     "duration": 0.010963,
     "end_time": "2022-05-02T16:52:25.118476",
     "exception": false,
     "start_time": "2022-05-02T16:52:25.107513",
     "status": "completed"
    },
    "tags": []
   },
   "outputs": [],
   "source": [
    "# Uncomment the next two lines to enable auto reloading for imported modules\n",
    "# %load_ext autoreload\n",
    "# %autoreload 2\n",
    "# For more info, see:\n",
    "# https://docs.ploomber.io/en/latest/user-guide/faq_index.html#auto-reloading-code-in-jupyter"
   ]
  },
  {
   "cell_type": "code",
   "execution_count": 3,
   "id": "5242f2db",
   "metadata": {
    "execution": {
     "iopub.execute_input": "2022-05-02T16:52:25.133427Z",
     "iopub.status.busy": "2022-05-02T16:52:25.132431Z",
     "iopub.status.idle": "2022-05-02T16:52:25.148599Z",
     "shell.execute_reply": "2022-05-02T16:52:25.148599Z"
    },
    "lines_to_next_cell": 2,
    "papermill": {
     "duration": 0.027096,
     "end_time": "2022-05-02T16:52:25.148599",
     "exception": false,
     "start_time": "2022-05-02T16:52:25.121503",
     "status": "completed"
    },
    "tags": [
     "parameters"
    ]
   },
   "outputs": [],
   "source": [
    "# If this task has dependencies, list them them here\n",
    "# (e.g. upstream = ['some_task']), otherwise leave as None.\n",
    "upstream = ['get']\n",
    "\n",
    "# This is a placeholder, leave it as None\n",
    "product = None"
   ]
  },
  {
   "cell_type": "code",
   "execution_count": 4,
   "id": "42e15e1d",
   "metadata": {
    "execution": {
     "iopub.execute_input": "2022-05-02T16:52:25.162539Z",
     "iopub.status.busy": "2022-05-02T16:52:25.162539Z",
     "iopub.status.idle": "2022-05-02T16:52:25.179105Z",
     "shell.execute_reply": "2022-05-02T16:52:25.178128Z"
    },
    "papermill": {
     "duration": 0.024592,
     "end_time": "2022-05-02T16:52:25.179105",
     "exception": false,
     "start_time": "2022-05-02T16:52:25.154513",
     "status": "completed"
    },
    "tags": [
     "injected-parameters"
    ]
   },
   "outputs": [],
   "source": [
    "# Parameters\n",
    "upstream = {\"get\": {\"data\": \"C:\\\\Users\\\\avill\\\\OneDrive\\\\Projects\\\\Data Pipeline\\\\Demo_Pipeline\\\\output\\\\data.csv\", \"nb\": \"C:\\\\Users\\\\avill\\\\OneDrive\\\\Projects\\\\Data Pipeline\\\\Demo_Pipeline\\\\output\\\\get.ipynb\"}}\n",
    "product = {\"data\": \"C:\\\\Users\\\\avill\\\\OneDrive\\\\Projects\\\\Data Pipeline\\\\Demo_Pipeline\\\\output\\\\extract.csv\", \"nb\": \"C:\\\\Users\\\\avill\\\\OneDrive\\\\Projects\\\\Data Pipeline\\\\Demo_Pipeline\\\\output\\\\norm.ipynb\"}\n"
   ]
  },
  {
   "cell_type": "code",
   "execution_count": 5,
   "id": "97f9701b",
   "metadata": {
    "execution": {
     "iopub.execute_input": "2022-05-02T16:52:25.194018Z",
     "iopub.status.busy": "2022-05-02T16:52:25.193020Z",
     "iopub.status.idle": "2022-05-02T16:52:26.335720Z",
     "shell.execute_reply": "2022-05-02T16:52:26.335078Z"
    },
    "papermill": {
     "duration": 1.153187,
     "end_time": "2022-05-02T16:52:26.336284",
     "exception": false,
     "start_time": "2022-05-02T16:52:25.183097",
     "status": "completed"
    },
    "tags": []
   },
   "outputs": [],
   "source": [
    "# your code here...\n",
    "from enum import Enum\n",
    "from pathlib import Path\n",
    "\n",
    "import pandas as pd\n",
    "import numpy as np\n",
    "\n",
    "df = pd.read_csv(upstream['get']['data'],\n",
    "                dtype = str,\n",
    "                usecols = ['date','location_key','cumulative_confirmed','cumulative_deceased','cumulative_recovered','cumulative_tested']\n",
    "                )\n",
    "\n",
    "death_lam = lambda x: float(x['cumulative_deceased']) / float(x['cumulative_confirmed']) if x['cumulative_confirmed'] != '0' else np.nan\n",
    "    \n",
    "recovery_lam = lambda x: float(x['cumulative_recovered']) / float(x['cumulative_confirmed']) if x['cumulative_confirmed'] != '0' else np.nan\n",
    "    \n",
    "df['death_rate'] = df[['cumulative_deceased','cumulative_confirmed']].apply(death_lam, axis=1)\n",
    "    \n",
    "df['recover_rate'] = df[['cumulative_recovered','cumulative_confirmed']].apply(recovery_lam, axis=1)\n",
    "    \n",
    "df.to_csv(product['data'],\n",
    "        sep = ',',\n",
    "        index = False\n",
    "        )"
   ]
  }
 ],
 "metadata": {
  "jupytext": {
   "text_representation": {
    "extension": ".py",
    "format_name": "percent",
    "format_version": "1.3",
    "jupytext_version": "1.13.8"
   }
  },
  "kernelspec": {
   "display_name": "Python 3 (ipykernel)",
   "language": "python",
   "name": "python3"
  },
  "language_info": {
   "codemirror_mode": {
    "name": "ipython",
    "version": 3
   },
   "file_extension": ".py",
   "mimetype": "text/x-python",
   "name": "python",
   "nbconvert_exporter": "python",
   "pygments_lexer": "ipython3",
   "version": "3.10.1"
  },
  "papermill": {
   "duration": 2.777054,
   "end_time": "2022-05-02T16:52:26.565949",
   "exception": null,
   "input_path": "C:\\Users\\avill\\AppData\\Local\\Temp\\tmpn5yotwmi.ipynb",
   "output_path": "C:\\Users\\avill\\OneDrive\\Projects\\Data Pipeline\\Demo_Pipeline\\output\\norm.ipynb",
   "parameters": {
    "product": {
     "data": "C:\\Users\\avill\\OneDrive\\Projects\\Data Pipeline\\Demo_Pipeline\\output\\extract.csv",
     "nb": "C:\\Users\\avill\\OneDrive\\Projects\\Data Pipeline\\Demo_Pipeline\\output\\norm.ipynb"
    },
    "upstream": {
     "get": {
      "data": "C:\\Users\\avill\\OneDrive\\Projects\\Data Pipeline\\Demo_Pipeline\\output\\data.csv",
      "nb": "C:\\Users\\avill\\OneDrive\\Projects\\Data Pipeline\\Demo_Pipeline\\output\\get.ipynb"
     }
    }
   },
   "start_time": "2022-05-02T16:52:23.788895"
  }
 },
 "nbformat": 4,
 "nbformat_minor": 5
}