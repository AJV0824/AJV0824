{
 "cells": [
  {
   "cell_type": "code",
   "execution_count": 1,
   "id": "c69b08ca",
   "metadata": {
    "execution": {
     "iopub.execute_input": "2022-05-02T16:52:22.021201Z",
     "iopub.status.busy": "2022-05-02T16:52:22.020229Z",
     "iopub.status.idle": "2022-05-02T16:52:22.038396Z",
     "shell.execute_reply": "2022-05-02T16:52:22.038396Z"
    },
    "lines_to_next_cell": 2,
    "papermill": {
     "duration": 0.036105,
     "end_time": "2022-05-02T16:52:22.039393",
     "exception": false,
     "start_time": "2022-05-02T16:52:22.003288",
     "status": "completed"
    },
    "tags": []
   },
   "outputs": [],
   "source": [
    "# Add description here\n",
    "#\n",
    "# *Note:* You can open this file as a notebook (JupyterLab: right-click on it in the side bar -> Open With -> Notebook)"
   ]
  },
  {
   "cell_type": "code",
   "execution_count": 2,
   "id": "84a9773c",
   "metadata": {
    "execution": {
     "iopub.execute_input": "2022-05-02T16:52:22.070249Z",
     "iopub.status.busy": "2022-05-02T16:52:22.068256Z",
     "iopub.status.idle": "2022-05-02T16:52:22.086246Z",
     "shell.execute_reply": "2022-05-02T16:52:22.085202Z"
    },
    "papermill": {
     "duration": 0.032891,
     "end_time": "2022-05-02T16:52:22.086246",
     "exception": false,
     "start_time": "2022-05-02T16:52:22.053355",
     "status": "completed"
    },
    "tags": []
   },
   "outputs": [],
   "source": [
    "# Uncomment the next two lines to enable auto reloading for imported modules\n",
    "# %load_ext autoreload\n",
    "# %autoreload 2\n",
    "# For more info, see:\n",
    "# https://docs.ploomber.io/en/latest/user-guide/faq_index.html#auto-reloading-code-in-jupyter"
   ]
  },
  {
   "cell_type": "code",
   "execution_count": 3,
   "id": "0be73d0e",
   "metadata": {
    "execution": {
     "iopub.execute_input": "2022-05-02T16:52:22.118128Z",
     "iopub.status.busy": "2022-05-02T16:52:22.117094Z",
     "iopub.status.idle": "2022-05-02T16:52:22.133692Z",
     "shell.execute_reply": "2022-05-02T16:52:22.132695Z"
    },
    "lines_to_next_cell": 2,
    "papermill": {
     "duration": 0.037484,
     "end_time": "2022-05-02T16:52:22.133692",
     "exception": false,
     "start_time": "2022-05-02T16:52:22.096208",
     "status": "completed"
    },
    "tags": [
     "parameters"
    ]
   },
   "outputs": [],
   "source": [
    "# If this task has dependencies, list them them here\n",
    "# (e.g. upstream = ['some_task']), otherwise leave as None.\n",
    "upstream = None\n",
    "\n",
    "# This is a placeholder, leave it as None\n",
    "product = None"
   ]
  },
  {
   "cell_type": "code",
   "execution_count": 4,
   "id": "d637cc32",
   "metadata": {
    "execution": {
     "iopub.execute_input": "2022-05-02T16:52:22.158643Z",
     "iopub.status.busy": "2022-05-02T16:52:22.158643Z",
     "iopub.status.idle": "2022-05-02T16:52:22.161770Z",
     "shell.execute_reply": "2022-05-02T16:52:22.162589Z"
    },
    "papermill": {
     "duration": 0.018931,
     "end_time": "2022-05-02T16:52:22.162589",
     "exception": false,
     "start_time": "2022-05-02T16:52:22.143658",
     "status": "completed"
    },
    "tags": [
     "injected-parameters"
    ]
   },
   "outputs": [],
   "source": [
    "# Parameters\n",
    "product = {\"data\": \"C:\\\\Users\\\\avill\\\\OneDrive\\\\Projects\\\\Data Pipeline\\\\Demo_Pipeline\\\\output\\\\data.csv\", \"nb\": \"C:\\\\Users\\\\avill\\\\OneDrive\\\\Projects\\\\Data Pipeline\\\\Demo_Pipeline\\\\output\\\\get.ipynb\"}\n"
   ]
  },
  {
   "cell_type": "code",
   "execution_count": 5,
   "id": "669396d9",
   "metadata": {
    "execution": {
     "iopub.execute_input": "2022-05-02T16:52:22.180580Z",
     "iopub.status.busy": "2022-05-02T16:52:22.179597Z",
     "iopub.status.idle": "2022-05-02T16:52:23.532801Z",
     "shell.execute_reply": "2022-05-02T16:52:23.531905Z"
    },
    "papermill": {
     "duration": 1.362235,
     "end_time": "2022-05-02T16:52:23.532801",
     "exception": false,
     "start_time": "2022-05-02T16:52:22.170566",
     "status": "completed"
    },
    "tags": []
   },
   "outputs": [],
   "source": [
    "# your code here...\n",
    "from io import StringIO\n",
    "import requests\n",
    "import pandas as pd\n",
    "\n",
    "from pathlib import Path\n",
    "\n",
    "url = 'https://storage.googleapis.com/covid19-open-data/v3/latest/epidemiology.csv'\n",
    "\n",
    "r = requests.get(url)\n",
    "\n",
    "df = pd.read_csv(StringIO(r.text), \n",
    "                dtype=str\n",
    "                )\n",
    "\n",
    "df.to_csv(product['data'],\n",
    "        index=False,\n",
    "        sep=','\n",
    "        )"
   ]
  }
 ],
 "metadata": {
  "jupytext": {
   "text_representation": {
    "extension": ".py",
    "format_name": "percent",
    "format_version": "1.3",
    "jupytext_version": "1.13.8"
   }
  },
  "kernelspec": {
   "display_name": "Python 3 (ipykernel)",
   "language": "python",
   "name": "python3"
  },
  "language_info": {
   "codemirror_mode": {
    "name": "ipython",
    "version": 3
   },
   "file_extension": ".py",
   "mimetype": "text/x-python",
   "name": "python",
   "nbconvert_exporter": "python",
   "pygments_lexer": "ipython3",
   "version": "3.10.1"
  },
  "papermill": {
   "duration": 3.087011,
   "end_time": "2022-05-02T16:52:23.755009",
   "exception": null,
   "input_path": "C:\\Users\\avill\\AppData\\Local\\Temp\\tmpht335og8.ipynb",
   "output_path": "C:\\Users\\avill\\OneDrive\\Projects\\Data Pipeline\\Demo_Pipeline\\output\\get.ipynb",
   "parameters": {
    "product": {
     "data": "C:\\Users\\avill\\OneDrive\\Projects\\Data Pipeline\\Demo_Pipeline\\output\\data.csv",
     "nb": "C:\\Users\\avill\\OneDrive\\Projects\\Data Pipeline\\Demo_Pipeline\\output\\get.ipynb"
    }
   },
   "start_time": "2022-05-02T16:52:20.667998"
  }
 },
 "nbformat": 4,
 "nbformat_minor": 5
}